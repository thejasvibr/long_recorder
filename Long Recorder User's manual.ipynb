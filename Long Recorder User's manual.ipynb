{
 "cells": [
  {
   "cell_type": "markdown",
   "metadata": {},
   "source": [
    "## The long recorder module : \n",
    "The long recorder module allows the user to record for a desired duration of time when triggered. This notebook will explain how to use it. This module presents an open-source solution to running long-duration recordings with flexible settings. Eg. some open source solutions (Audacity) allow recording from only stereo channel sub-configurations in a multichannel soundcard (if not compiled properly in Windows). \n",
    "\n",
    "This module was primarily designed to be used for long-duration or repetitive audio recordings that are triggered by a separate script or by a task scheduler. The output is a WAV file with the timestamp of recording initiation. \n",
    "\n",
    "Long recorder was developed to be used in experiments being run by Dr. Sue Anne Zollinger at the Coomunication and Social Behaviour Group, Max Planck Institute for Ornithology, Seewiesen. \n",
    "\n",
    "\n",
    "Development and testing : \n",
    "The long recorder module was developed and tested on Anaconda installs of Python 2.7.12 with the following external libraries to support it:\n",
    "*  sounddevice version 0.3.5\n",
    "* soundfile version 0.8.1 \n",
    "* numpy 1.13.1 \n",
    "\n",
    "All testing took place on Windows 7  64 bit laptops. As long as sounddevice and soundfile are able to run, it should be possible to run this on Linux/Mac OS computers too. "
   ]
  },
  {
   "cell_type": "markdown",
   "metadata": {},
   "source": [
    "##### Software License :\n",
    "Long recorder is released for use with an MIT License. "
   ]
  },
  {
   "cell_type": "markdown",
   "metadata": {},
   "source": [
    "## Usage : \n",
    "### Input requirements : \n",
    "To run the long recorder the user must provide a few inputs, the important ones being :\n",
    "* duration : *how long should the function run for in hours:minutes format*\n",
    "* destination folder : *where should the audio file be saved? *\n",
    "* device_name : *where should the audio data be collected from? *\n",
    "* num_channels : *how many channels should be recorded from? *"
   ]
  },
  {
   "cell_type": "markdown",
   "metadata": {},
   "source": [
    "#### Example 1 : recording from the laptop mics:\n",
    "![](imgs/mic_recording_eg.PNG)\n",
    "If the above example is run, then the device ('Microsoft Sound Mapper') will record a file of 1 minute and save it to destination folder. The resulting file will be a stereo recording. "
   ]
  },
  {
   "cell_type": "markdown",
   "metadata": {},
   "source": [
    "#### Example 2 : recording from another soundcard \n",
    "##### Step 1 :\n",
    "Long recorder can also gather audio data from external soundcards. To do this one must first determine the device name as detected by the sounddevice package. \n",
    "\n",
    "By running the following commands all recognised devices will be printed out:\n",
    "\n",
    "> import sounddevice as sd \n",
    "\n",
    "> sd.query_devices()\n",
    "\n",
    "![query_devices](imgs/query_devices.PNG)\n",
    "\n",
    "##### Step 2 :\n",
    "Look in the list of recognised device names to find the device you are interested in using. \n",
    "Pay attention to any mentions of 'USB' or 'ASIO' in the names, and look carefully at the number of channels on offer for each of the listed devices. It may be that the same 'electronic unit' (eg. one soundcard device) is treated as multiple digital devices by sounddevice. For instance the M-Audio M Track Eight soundcard above is being recognised in terms of all possible configurations it can be used in. \n",
    "\n",
    "Copy the name of the device you are interested in using and enter it into the device_name position in the scheduled_multichannel_recorder function. This is the function that does all of the work in the scheduled recorder module. \n",
    "\n",
    "![diffdevice](imgs/diff_device_usage.PNG)"
   ]
  },
  {
   "cell_type": "markdown",
   "metadata": {},
   "source": [
    "#### Example 3 : Scheduling the recorder with the help of Windows task scheduler :\n",
    "If you cannot manually initiate the recordings because of odd time, experiment in progress or anything else, it is necessary to automate the scheduling. \n",
    "\n",
    "The easiest way to do this would be to write another python script that triggers long recorder as is necessary. However, this would imply the need for a python process running all the time, and if the same computer is being used for other purposes, it increases the risk that a user may accidentally close the window. To overcome such problems, you could call long recorder on a 'as needed' basis. With Windows Task Scheduler:  1) the module will be called and the recordings will take place without any obvious signs of it. Here is how to configure this. \n",
    "\n",
    "##### If you are using other OS-es:  \n",
    "Sorry but I haven't tried it on anything apart from Windows 7 yet!\n"
   ]
  },
  {
   "cell_type": "markdown",
   "metadata": {},
   "source": [
    "##### Step 1 : Create a Basic Task on Task Scheduler : \n",
    "Find the Task Scheduler by typing it into the search bar that appears at the bottom of the Windows start menu. \n",
    "Click on 'Create Basic Task' and enter the relevant details. \n",
    "\n",
    "##### What to put in the 'Trigger' section : \n",
    "Choose when you want long recorder to be run. Be aware that there can be a few seconds of delay by the time the recording actually starts, and compensate accordingly.\n",
    "\n",
    "If you want to run long recorder twice per day you can alter this in the task properties after creating the basic task to be executed. The details are in the heading  'Finish' below.\n",
    "\n",
    "##### What to put in the 'Action' section:\n",
    "Let the default Action be 'Start a program'. The program/script to be called is ....you got it Python. We need to call the exe file. You can locate the relevant exe file by opening up Spyder/whichever editor you are using and running the following commands:\n",
    "\n",
    "* import sys\n",
    "* sys.executable\n",
    "![sysexec](imgs/sys_executable.PNG)\n",
    "\n",
    "\n",
    "Enter this as the Program/Script to be run. In addition to the main program (Python), however we also need to know which module Python needs to run ! \n",
    "\n",
    "Copy the location of the long recorder module (long_recorder.py) and paste it into the 'Add arguments(optional)' window. \n",
    "Pay attention that the paths are proper, and that all addresses are double slashed. I know that sometimes it can cause issues  if there are single slashes. \n",
    "\n",
    "![](imgs/action_setting.PNG)\n",
    "\n",
    "#### 'Finish' :\n",
    "Check the details of the task and click on the 'Open the Properties dialog for this task when I click Finish'.\n",
    "This will provide you access to the task properties menu. \n",
    "\n",
    "#### Task properties: \n",
    "\n",
    "##### Specifying other repeat cycles: \n",
    "If you want to run a task multiple times a day or at multiple time scales, go the the 'Triggers' tab. Here you should see the first repeat cycle you entered while creating the Task. In addition, you can add another repeat cycle at the day/month/week level by clicking on 'New' and proceeding like before. \n",
    "\n",
    "##### Adding multiple actions : \n",
    "Just as a bonus, but if you'd like to start your webcam *and* run the recordings at the same time - you could add this to the Task in the Actions tab too.\n"
   ]
  }
 ],
 "metadata": {
  "anaconda-cloud": {},
  "kernelspec": {
   "display_name": "Python [conda root]",
   "language": "python",
   "name": "conda-root-py"
  },
  "language_info": {
   "codemirror_mode": {
    "name": "ipython",
    "version": 2
   },
   "file_extension": ".py",
   "mimetype": "text/x-python",
   "name": "python",
   "nbconvert_exporter": "python",
   "pygments_lexer": "ipython2",
   "version": "2.7.12"
  }
 },
 "nbformat": 4,
 "nbformat_minor": 2
}
